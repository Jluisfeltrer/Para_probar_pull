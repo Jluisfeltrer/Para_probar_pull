{
 "cells": [
  {
   "cell_type": "code",
   "execution_count": 1,
   "metadata": {},
   "outputs": [
    {
     "name": "stdout",
     "output_type": "stream",
     "text": [
      "Hola, mundo!\n"
     ]
    }
   ],
   "source": [
    "#dame un codigo if de ejemplo\n",
    "# -*- coding: utf-8 -*-                                         \n",
    "if __name__ == \"__main__\":\n",
    "    print(\"Hola, mundo!\")\n",
    "    # Este es un comentario\n",
    "    # Este es otro comentario\n",
    "    # Este es un tercer comentario\n",
    "    # Este es un cuarto comentario\n",
    "    # Este es un quinto comentario\n",
    "    # Este es un sexto comentario\n",
    "    # Este es un septimo comentario\n",
    "    # Este es un octavo comentario\n",
    "    # Este es un noveno comentario\n",
    "    # Este es un decimo comentario  "
   ]
  }
 ],
 "metadata": {
  "kernelspec": {
   "display_name": "Python 3",
   "language": "python",
   "name": "python3"
  },
  "language_info": {
   "codemirror_mode": {
    "name": "ipython",
    "version": 3
   },
   "file_extension": ".py",
   "mimetype": "text/x-python",
   "name": "python",
   "nbconvert_exporter": "python",
   "pygments_lexer": "ipython3",
   "version": "3.13.2"
  }
 },
 "nbformat": 4,
 "nbformat_minor": 2
}
