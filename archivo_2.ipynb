{
 "cells": [
  {
   "cell_type": "code",
   "execution_count": 1,
   "metadata": {},
   "outputs": [
    {
     "name": "stdout",
     "output_type": "stream",
     "text": [
      "Los cuadrados de los números son: [1, 4, 9, 16, 25]\n"
     ]
    }
   ],
   "source": [
    "#Dame un codigo de prueba sobre for loops en python\n",
    "# Este es un ejemplo de un bucle for en Python\n",
    "# que itera sobre una lista de números y calcula su cuadrado.\n",
    "numeros = [1, 2, 3, 4, 5]\n",
    "cuadrados = []\n",
    "for numero in numeros:\n",
    "    cuadrado = numero ** 2\n",
    "    cuadrados.append(cuadrado)\n",
    "print(\"Los cuadrados de los números son:\", cuadrados)\n",
    "# Este es un ejemplo de un bucle for en Python\n",
    "# que itera sobre una cadena de texto e imprime cada letra."
   ]
  },
  {
   "cell_type": "code",
   "execution_count": 2,
   "metadata": {},
   "outputs": [],
   "source": [
    "#Dame un codigo de prueba sobre cases en python\n",
    "# Este es un ejemplo de una estructura de control switch-case en Python\n",
    "# que utiliza un diccionario para simular el comportamiento de un switch-case.\n",
    "def switch_case(opcion):\n",
    "    switcher = {\n",
    "        1: \"Opción 1 seleccionada\",\n",
    "        2: \"Opción 2 seleccionada\",\n",
    "        3: \"Opción 3 seleccionada\"\n",
    "    }\n",
    "    return switcher.get(opcion, \"Opción no válida\")\n",
    "# Ejemplo de uso"
   ]
  },
  {
   "cell_type": "code",
   "execution_count": null,
   "metadata": {},
   "outputs": [],
   "source": [
    "# cadena = \"Hola\"\n",
    "# for letra in cadena:                  "
   ]
  }
 ],
 "metadata": {
  "kernelspec": {
   "display_name": "Python 3",
   "language": "python",
   "name": "python3"
  },
  "language_info": {
   "codemirror_mode": {
    "name": "ipython",
    "version": 3
   },
   "file_extension": ".py",
   "mimetype": "text/x-python",
   "name": "python",
   "nbconvert_exporter": "python",
   "pygments_lexer": "ipython3",
   "version": "3.13.2"
  }
 },
 "nbformat": 4,
 "nbformat_minor": 2
}
